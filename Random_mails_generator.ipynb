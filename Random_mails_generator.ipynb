{
  "nbformat": 4,
  "nbformat_minor": 0,
  "metadata": {
    "colab": {
      "name": "Random mails generator.ipynb",
      "provenance": [],
      "collapsed_sections": [],
      "authorship_tag": "ABX9TyOCcxhXoRTRb1C2ucXXZT/q",
      "include_colab_link": true
    },
    "kernelspec": {
      "name": "python3",
      "display_name": "Python 3"
    }
  },
  "cells": [
    {
      "cell_type": "markdown",
      "metadata": {
        "id": "view-in-github",
        "colab_type": "text"
      },
      "source": [
        "<a href=\"https://colab.research.google.com/github/drakax1/Google-Colab/blob/main/Random_mails_generator.ipynb\" target=\"_parent\"><img src=\"https://colab.research.google.com/assets/colab-badge.svg\" alt=\"Open In Colab\"/></a>"
      ]
    },
    {
      "cell_type": "code",
      "metadata": {
        "id": "YpQkd3D8z04G"
      },
      "source": [
        "!pip install selenium\n",
        "!apt-get update \n",
        "!apt install chromium-chromedriver"
      ],
      "execution_count": null,
      "outputs": []
    },
    {
      "cell_type": "code",
      "metadata": {
        "id": "hzB365diz4-P"
      },
      "source": [
        "from selenium import webdriver\n",
        "chrome_options = webdriver.ChromeOptions()\n",
        "chrome_options.add_argument('--headless')\n",
        "chrome_options.add_argument('--no-sandbox')\n",
        "chrome_options.add_argument('--disable-dev-shm-usage')\n",
        "driver = webdriver.Chrome('chromedriver',chrome_options=chrome_options)"
      ],
      "execution_count": null,
      "outputs": []
    },
    {
      "cell_type": "code",
      "metadata": {
        "id": "OpwteSswz_y1",
        "cellView": "code"
      },
      "source": [
        "emails = []\n",
        "#emails_filtered = []\n",
        "\n",
        "domains = [\"gmail\",\"hotmail\",\"outlook\",\"yahoo\",\"msn\",\"aol\",\"live\",\"icloud\"]\n",
        "domains = sorted(domains)\n",
        "\n",
        "\n",
        "while len(emails) < 10000:\n",
        "\n",
        "  try:\n",
        "    driver.get(\"https://www.randomlists.com/email-addresses?qty=1000\")\n",
        "\n",
        "    #if driver.find_elements_by_xpath(\"//*[contains(@class,'rand_large')]\"):\n",
        "    for i in range(1,1001):\n",
        "      mail = driver.find_elements_by_xpath(\"/html/body/div/div[1]/main/article/div[2]/ol/li[\"+str(i)+\"]/div\")[0].text\n",
        "      emails.append(mail)\n",
        "      if len(emails)%500 == 0:\n",
        "        print(len(emails))\n",
        "\n",
        "        #for j in domains:\n",
        "          #if j in mail and mail not in emails_filtered:\n",
        "            #emails_filtered.append(mail)\n",
        "            #print(f\"Email {emails_filtered.index(mail)+1}: {mail}\")\n",
        "\n",
        "  except Exception as e:\n",
        "    print(f\"{e}: {i}\")\n",
        "\n",
        "\n",
        "print(len(emails))\n",
        "#print(len(emails_filtered))"
      ],
      "execution_count": null,
      "outputs": []
    },
    {
      "cell_type": "code",
      "metadata": {
        "id": "eelnWMegoc-t"
      },
      "source": [
        "print(len(emails))\n",
        "emails1 = sorted(list(set(emails)))\n",
        "print(len(emails1))\n",
        "print(emails1[:10])"
      ],
      "execution_count": null,
      "outputs": []
    },
    {
      "cell_type": "code",
      "metadata": {
        "id": "Ocuuml8epLmi"
      },
      "source": [
        "domains = ['aol', 'gmail', 'hotmail', 'icloud', 'live', 'msn', 'outlook', 'yahoo']\n",
        "\n",
        "emails_filtered = []\n",
        "\n",
        "for i in emails1:\n",
        "  for j in domains:\n",
        "    if j in i:\n",
        "      emails_filtered.append(i)\n",
        "      #print(f\"Email {emails_filtered.index(i)+1}: {i}\")\n",
        "\n",
        "print(len(emails_filtered))"
      ],
      "execution_count": null,
      "outputs": []
    },
    {
      "cell_type": "code",
      "metadata": {
        "id": "lZLyMy2YhutX"
      },
      "source": [
        "f=open('random_mails_4193.txt','w')\n",
        "l1=map(lambda x:x+'\\n', emails_filtered)\n",
        "f.writelines(l1)\n",
        "f.close()"
      ],
      "execution_count": null,
      "outputs": []
    },
    {
      "cell_type": "code",
      "metadata": {
        "id": "0p6EjSXmuiVj"
      },
      "source": [
        "f1 = open(\"random_mails_4193.txt\", \"r\")\n",
        "f2 = open(\"mails_finals_9007.txt\", \"r\")\n",
        "#f3 = open(\"random_mails_6425.txt\", \"r\")\n",
        "mails1 = f1. readlines()\n",
        "mails2 = f2. readlines()\n",
        "#mails3 = f3. readlines()\n",
        "print(len(mails1))\n",
        "print(mails1[:10])\n",
        "print(len(mails2))\n",
        "print(mails2[:10])\n",
        "#print(len(mails3))\n",
        "#print(mails3[:10])"
      ],
      "execution_count": null,
      "outputs": []
    },
    {
      "cell_type": "code",
      "metadata": {
        "id": "RqhrYODq4apG"
      },
      "source": [
        "mailsmails = mails1 + mails2\n",
        "print(len(mailsmails))\n",
        "print(mailsmails[:10])"
      ],
      "execution_count": null,
      "outputs": []
    },
    {
      "cell_type": "code",
      "metadata": {
        "id": "iK28kczT4i91"
      },
      "source": [
        "mailsmails = sorted(list(set(mailsmails)))\n",
        "print(len(mailsmails))\n",
        "print(mailsmails[:20])"
      ],
      "execution_count": null,
      "outputs": []
    },
    {
      "cell_type": "code",
      "metadata": {
        "id": "sLZRjNkY48ME"
      },
      "source": [
        "f=open('mails_finals_9007.txt','w')\n",
        "#l=map(lambda x:x+'\\n', mailsmails)\n",
        "f.writelines(mailsmails)\n",
        "f.close()"
      ],
      "execution_count": null,
      "outputs": []
    }
  ]
}