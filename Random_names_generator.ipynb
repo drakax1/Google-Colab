{
  "nbformat": 4,
  "nbformat_minor": 0,
  "metadata": {
    "colab": {
      "name": "Random names generator.ipynb",
      "provenance": [],
      "collapsed_sections": [],
      "authorship_tag": "ABX9TyNzYzU1cJxt2WAKecfbOcv4",
      "include_colab_link": true
    },
    "kernelspec": {
      "name": "python3",
      "display_name": "Python 3"
    }
  },
  "cells": [
    {
      "cell_type": "markdown",
      "metadata": {
        "id": "view-in-github",
        "colab_type": "text"
      },
      "source": [
        "<a href=\"https://colab.research.google.com/github/drakax1/Google-Colab/blob/main/Random_names_generator.ipynb\" target=\"_parent\"><img src=\"https://colab.research.google.com/assets/colab-badge.svg\" alt=\"Open In Colab\"/></a>"
      ]
    },
    {
      "cell_type": "code",
      "metadata": {
        "id": "NaJjJ2fhemQ6"
      },
      "source": [
        "!pip install selenium\n",
        "!apt-get update \n",
        "!apt install chromium-chromedriver"
      ],
      "execution_count": null,
      "outputs": []
    },
    {
      "cell_type": "code",
      "metadata": {
        "id": "sPakt388eoS-"
      },
      "source": [
        "from selenium import webdriver\n",
        "chrome_options = webdriver.ChromeOptions()\n",
        "chrome_options.add_argument('--headless')\n",
        "chrome_options.add_argument('--no-sandbox')\n",
        "chrome_options.add_argument('--disable-dev-shm-usage')\n",
        "driver = webdriver.Chrome('chromedriver',chrome_options=chrome_options)"
      ],
      "execution_count": null,
      "outputs": []
    },
    {
      "cell_type": "code",
      "metadata": {
        "id": "hHwGlSEReptk"
      },
      "source": [
        "fnames = []\n",
        "\n",
        "\n",
        "while len(fnames) < 1000:\n",
        "\n",
        "  try:\n",
        "    driver.get(\"https://www.randomlists.com/female-names?dup=false&qty=1000\")\n",
        "\n",
        "    #if driver.find_elements_by_xpath(\"//*[contains(@class,'rand_large')]\"):\n",
        "    for i in range(1,1001):\n",
        "      fname = driver.find_elements_by_xpath(\"/html/body/div/div[1]/main/article/div[2]/ol/li[\"+str(i)+\"]/span\")[0].text\n",
        "      fnames.append(fname)\n",
        "      if len(fnames)%500 == 0:\n",
        "        print(len(fnames))\n",
        "\n",
        "  except Exception as e:\n",
        "    print(f\"{e}: {i}\")\n",
        "\n",
        "\n",
        "print(len(fnames))"
      ],
      "execution_count": null,
      "outputs": []
    },
    {
      "cell_type": "code",
      "metadata": {
        "id": "FNtZXPlohe09"
      },
      "source": [
        "mnames = []\n",
        "\n",
        "\n",
        "while len(mnames) < 1000:\n",
        "\n",
        "  try:\n",
        "    driver.get(\"https://www.randomlists.com/male-names?dup=false&qty=1000\")\n",
        "\n",
        "    #if driver.find_elements_by_xpath(\"//*[contains(@class,'rand_large')]\"):\n",
        "    for i in range(1,1001):\n",
        "      mname = driver.find_elements_by_xpath(\"/html/body/div/div[1]/main/article/div[2]/ol/li[\"+str(i)+\"]/span\")[0].text\n",
        "      mnames.append(mname)\n",
        "      if len(mnames)%500 == 0:\n",
        "        print(len(mnames))\n",
        "\n",
        "  except Exception as e:\n",
        "    print(f\"{e}: {i}\")\n",
        "\n",
        "\n",
        "print(len(mnames))"
      ],
      "execution_count": null,
      "outputs": []
    },
    {
      "cell_type": "code",
      "metadata": {
        "id": "bBVGhF2ribRO"
      },
      "source": [
        "lnames = []\n",
        "\n",
        "\n",
        "while len(lnames) < 1000:\n",
        "\n",
        "  try:\n",
        "    driver.get(\"https://www.randomlists.com/last-names?dup=false&qty=1000\")\n",
        "\n",
        "    #if driver.find_elements_by_xpath(\"//*[contains(@class,'rand_large')]\"):\n",
        "    for i in range(1,1001):\n",
        "      lname = driver.find_elements_by_xpath(\"/html/body/div/div[1]/main/article/div[2]/ol/li[\"+str(i)+\"]/span\")[0].text\n",
        "      lnames.append(lname)\n",
        "      if len(lnames)%500 == 0:\n",
        "        print(len(lnames))\n",
        "\n",
        "  except Exception as e:\n",
        "    print(f\"{e}: {i}\")\n",
        "\n",
        "\n",
        "print(len(lnames))"
      ],
      "execution_count": null,
      "outputs": []
    },
    {
      "cell_type": "code",
      "metadata": {
        "id": "I5qs2wjX22jW"
      },
      "source": [
        "cnames = []\n",
        "\n",
        "\n",
        "while len(cnames) < 116:\n",
        "\n",
        "  try:\n",
        "    driver.get(\"https://www.randomlists.com/cat-names?dup=false&qty=116\")\n",
        "\n",
        "    #if driver.find_elements_by_xpath(\"//*[contains(@class,'rand_large')]\"):\n",
        "    for i in range(1,117):\n",
        "      cname = driver.find_elements_by_xpath(\"/html/body/div/div[1]/main/article/div[2]/ol/li[\"+str(i)+\"]/span\")[0].text\n",
        "      cnames.append(cname)\n",
        "      if len(cnames)%10 == 0:\n",
        "        print(len(cnames))\n",
        "\n",
        "  except Exception as e:\n",
        "    print(f\"{e}: {i}\")\n",
        "\n",
        "\n",
        "print(len(cnames))"
      ],
      "execution_count": null,
      "outputs": []
    },
    {
      "cell_type": "code",
      "metadata": {
        "id": "f4QyVhZ55Ki0"
      },
      "source": [
        "dnames = []\n",
        "\n",
        "\n",
        "while len(dnames) < 230:\n",
        "\n",
        "  try:\n",
        "    driver.get(\"https://www.randomlists.com/dog-names?dup=false&qty=230\")\n",
        "\n",
        "    #if driver.find_elements_by_xpath(\"//*[contains(@class,'rand_large')]\"):\n",
        "    for i in range(1,231):\n",
        "      dname = driver.find_elements_by_xpath(\"/html/body/div/div[1]/main/article/div[2]/ol/li[\"+str(i)+\"]/span\")[0].text\n",
        "      dnames.append(dname)\n",
        "      if len(dnames)%10 == 0:\n",
        "        print(len(dnames))\n",
        "\n",
        "  except Exception as e:\n",
        "    print(f\"{e}: {i}\")\n",
        "\n",
        "\n",
        "print(len(dnames))"
      ],
      "execution_count": null,
      "outputs": []
    },
    {
      "cell_type": "code",
      "metadata": {
        "id": "RkzA3oae7_oK"
      },
      "source": [
        "pnames = []\n",
        "\n",
        "\n",
        "while len(pnames) < 1176:\n",
        "\n",
        "  try:\n",
        "    driver.get(\"https://www.randomlists.com/pet-names?dup=false&qty=1176\")\n",
        "\n",
        "    #if driver.find_elements_by_xpath(\"//*[contains(@class,'rand_large')]\"):\n",
        "    for i in range(1,1177):\n",
        "      pname = driver.find_elements_by_xpath(\"/html/body/div/div[1]/main/article/div[2]/ol/li[\"+str(i)+\"]/span\")[0].text\n",
        "      pnames.append(pname)\n",
        "      if len(pnames)%100 == 0:\n",
        "        print(len(pnames))\n",
        "\n",
        "  except Exception as e:\n",
        "    print(f\"{e}: {i}\")\n",
        "\n",
        "\n",
        "print(len(pnames))"
      ],
      "execution_count": null,
      "outputs": []
    },
    {
      "cell_type": "code",
      "metadata": {
        "id": "vNCu9OZS83QI"
      },
      "source": [
        "nnames = []\n",
        "\n",
        "\n",
        "while len(nnames) < 479:\n",
        "\n",
        "  try:\n",
        "    driver.get(\"https://www.randomlists.com/nicknames?dup=false&qty=479\")\n",
        "\n",
        "    #if driver.find_elements_by_xpath(\"//*[contains(@class,'rand_large')]\"):\n",
        "    for i in range(1,480):\n",
        "      nname = driver.find_elements_by_xpath(\"/html/body/div/div[1]/main/article/div[2]/ol/li[\"+str(i)+\"]/span\")[0].text\n",
        "      nnames.append(nname)\n",
        "      if len(nnames)%100 == 0:\n",
        "        print(len(nnames))\n",
        "\n",
        "  except Exception as e:\n",
        "    print(f\"{e}: {i}\")\n",
        "\n",
        "\n",
        "print(len(nnames))"
      ],
      "execution_count": null,
      "outputs": []
    },
    {
      "cell_type": "code",
      "metadata": {
        "id": "CnUQwsI69jl8"
      },
      "source": [
        "bnames = []\n",
        "\n",
        "\n",
        "while len(bnames) < 2000:\n",
        "\n",
        "  try:\n",
        "    driver.get(\"https://www.randomlists.com/random-first-names?dup=false&qty=2000\")\n",
        "\n",
        "    #if driver.find_elements_by_xpath(\"//*[contains(@class,'rand_large')]\"):\n",
        "    for i in range(1,2001):\n",
        "      bname = driver.find_elements_by_xpath(\"/html/body/div/div[1]/main/article/div[2]/ol/li[\"+str(i)+\"]/span\")[0].text\n",
        "      bnames.append(bname)\n",
        "      if len(bnames)%100 == 0:\n",
        "        print(len(bnames))\n",
        "\n",
        "  except Exception as e:\n",
        "    print(f\"{e}: {i}\")\n",
        "\n",
        "\n",
        "print(len(bnames))"
      ],
      "execution_count": null,
      "outputs": []
    },
    {
      "cell_type": "code",
      "metadata": {
        "id": "8_3WomXL-rdp"
      },
      "source": [
        "snames = []\n",
        "\n",
        "\n",
        "while len(snames) < 455:\n",
        "\n",
        "  try:\n",
        "    driver.get(\"https://www.randomlists.com/spanish-first-names?dup=false&qty=455\")\n",
        "\n",
        "    #if driver.find_elements_by_xpath(\"//*[contains(@class,'rand_large')]\"):\n",
        "    for i in range(1,456):\n",
        "      sname = driver.find_elements_by_xpath(\"/html/body/div/div[1]/main/article/div[2]/ol/li[\"+str(i)+\"]/span\")[0].text\n",
        "      snames.append(sname)\n",
        "      if len(snames)%100 == 0:\n",
        "        print(len(snames))\n",
        "\n",
        "  except Exception as e:\n",
        "    print(f\"{e}: {i}\")\n",
        "\n",
        "\n",
        "print(len(snames))"
      ],
      "execution_count": null,
      "outputs": []
    },
    {
      "cell_type": "code",
      "metadata": {
        "id": "tPwM8gHJ2fi8"
      },
      "source": [
        "nouns = []\n",
        "\n",
        "\n",
        "while len(nouns) < 876:\n",
        "\n",
        "  try:\n",
        "    driver.get(\"https://www.randomlists.com/nouns?dup=false&qty=876\")\n",
        "\n",
        "    #if driver.find_elements_by_xpath(\"//*[contains(@class,'rand_large')]\"):\n",
        "    for i in range(1,877):\n",
        "      noun = driver.find_elements_by_xpath(\"/html/body/div/div[1]/main/article/div[2]/ol/li[\"+str(i)+\"]/span\")[0].text\n",
        "      nouns.append(noun)\n",
        "      if len(nouns)%100 == 0:\n",
        "        print(len(nouns))\n",
        "\n",
        "  except Exception as e:\n",
        "    print(f\"{e}: {i}\")\n",
        "\n",
        "\n",
        "print(len(nouns))"
      ],
      "execution_count": null,
      "outputs": []
    },
    {
      "cell_type": "code",
      "metadata": {
        "id": "c6YdHHTE2-b3"
      },
      "source": [
        "adjectives = []\n",
        "\n",
        "\n",
        "while len(adjectives) < 1133:\n",
        "\n",
        "  try:\n",
        "    driver.get(\"https://www.randomlists.com/random-adjectives?dup=false&qty=1133\")\n",
        "\n",
        "    #if driver.find_elements_by_xpath(\"//*[contains(@class,'rand_large')]\"):\n",
        "    for i in range(1,1134):\n",
        "      adjective = driver.find_elements_by_xpath(\"/html/body/div/div[1]/main/article/div[2]/ol/li[\"+str(i)+\"]/span\")[0].text\n",
        "      adjectives.append(adjective)\n",
        "      if len(adjectives)%100 == 0:\n",
        "        print(len(adjectives))\n",
        "\n",
        "  except Exception as e:\n",
        "    print(f\"{e}: {i}\")\n",
        "\n",
        "\n",
        "print(len(adjectives))"
      ],
      "execution_count": null,
      "outputs": []
    },
    {
      "cell_type": "code",
      "metadata": {
        "id": "YSN1TKTG3JXx"
      },
      "source": [
        "verbs = []\n",
        "\n",
        "\n",
        "while len(verbs) < 633:\n",
        "\n",
        "  try:\n",
        "    driver.get(\"https://www.randomlists.com/random-verbs?dup=false&qty=633\")\n",
        "\n",
        "    #if driver.find_elements_by_xpath(\"//*[contains(@class,'rand_large')]\"):\n",
        "    for i in range(1,634):\n",
        "      verb = driver.find_elements_by_xpath(\"/html/body/div/div[1]/main/article/div[2]/ol/li[\"+str(i)+\"]/span\")[0].text\n",
        "      verbs.append(verb)\n",
        "      if len(verbs)%100 == 0:\n",
        "        print(len(verbs))\n",
        "\n",
        "  except Exception as e:\n",
        "    print(f\"{e}: {i}\")\n",
        "\n",
        "\n",
        "print(len(verbs))"
      ],
      "execution_count": null,
      "outputs": []
    },
    {
      "cell_type": "code",
      "metadata": {
        "id": "7hTrXaOf63pt"
      },
      "source": [
        "things = []\n",
        "\n",
        "\n",
        "while len(things) < 190:\n",
        "\n",
        "  try:\n",
        "    driver.get(\"https://www.randomlists.com/things?show_images=false&dup=false&qty=190\")\n",
        "\n",
        "    #if driver.find_elements_by_xpath(\"//*[contains(@class,'rand_large')]\"):\n",
        "    for i in range(1,191):\n",
        "      thing = driver.find_elements_by_xpath(\"/html/body/div/div[1]/main/article/div[2]/ol/li[\"+str(i)+\"]/span[2]\")[0].text\n",
        "                                             #/html/body/div/div[1]/main/article/div[2]/ol/li[1]/span[2]\n",
        "      things.append(thing)\n",
        "      if len(things)%100 == 0:\n",
        "        print(len(things))\n",
        "\n",
        "  except Exception as e:\n",
        "    print(f\"{e}: {i}\")\n",
        "\n",
        "\n",
        "print(len(things))"
      ],
      "execution_count": null,
      "outputs": []
    },
    {
      "cell_type": "code",
      "metadata": {
        "id": "MTiVSM0s5iyf"
      },
      "source": [
        "lesnames = fnames + mnames + lnames + cnames + dnames + pnames + nnames + bnames + snames + nouns + adjectives + verbs + things\n",
        "print(len(lesnames))\n",
        "lesnames = sorted(list(set(lesnames)))\n",
        "print(len(lesnames))"
      ],
      "execution_count": null,
      "outputs": []
    },
    {
      "cell_type": "code",
      "metadata": {
        "id": "Irgab0JD32we"
      },
      "source": [
        "domains = ['@aol.com', '@gmail.com', '@hotmail.com', '@icloud.com', '@live.com', '@msn.com', '@outlook.com', '@yahoo.com']\n",
        "\n",
        "mails = []\n",
        "\n",
        "for i in lesnames:\n",
        "  for j in domains:\n",
        "    mails.append(i+j)\n",
        "\n",
        "print(len(domains))\n",
        "print(len(mails))\n",
        "print(mails[:10])"
      ],
      "execution_count": null,
      "outputs": []
    },
    {
      "cell_type": "code",
      "metadata": {
        "id": "gmLOxKD4D73G"
      },
      "source": [
        "mails1 = list(map(lambda x:x.lower(),mails))\n",
        "%time\n",
        "mails1 = list(map(lambda x:x.replace(\" \",\"\"),mails))\n",
        "%time\n",
        "\n",
        "mails2 = [x.lower() for x in mails]\n",
        "%time\n",
        "mails2 = [x.replace(\" \",\"\") for x in mails]\n",
        "%time\n",
        "\n",
        "print(mails1[:10])\n",
        "print(mails2[:10])\n",
        "print(len(mails2))"
      ],
      "execution_count": null,
      "outputs": []
    },
    {
      "cell_type": "code",
      "metadata": {
        "id": "gPWLC9UIiBtO"
      },
      "source": [
        "f=open('mails_54808.txt','w')\n",
        "l=map(lambda x:x+'\\n', mails2)\n",
        "f.writelines(l)\n",
        "f.close()"
      ],
      "execution_count": null,
      "outputs": []
    }
  ]
}