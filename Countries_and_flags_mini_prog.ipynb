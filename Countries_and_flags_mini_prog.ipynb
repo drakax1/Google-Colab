{
  "nbformat": 4,
  "nbformat_minor": 0,
  "metadata": {
    "colab": {
      "name": "Countries and flags mini prog.ipynb",
      "provenance": [],
      "collapsed_sections": [],
      "authorship_tag": "ABX9TyNIt5ayfU41dtVHY7cq2usf",
      "include_colab_link": true
    },
    "kernelspec": {
      "name": "python3",
      "display_name": "Python 3"
    }
  },
  "cells": [
    {
      "cell_type": "markdown",
      "metadata": {
        "id": "view-in-github",
        "colab_type": "text"
      },
      "source": [
        "<a href=\"https://colab.research.google.com/github/drakax1/Google-Colab/blob/main/Countries_and_flags_mini_prog.ipynb\" target=\"_parent\"><img src=\"https://colab.research.google.com/assets/colab-badge.svg\" alt=\"Open In Colab\"/></a>"
      ]
    },
    {
      "cell_type": "code",
      "metadata": {
        "id": "akyKLa2g-oDb"
      },
      "source": [
        "!pip install selenium\n",
        "!apt-get update \n",
        "!apt install chromium-chromedriver"
      ],
      "execution_count": null,
      "outputs": []
    },
    {
      "cell_type": "code",
      "metadata": {
        "id": "DtT8S3L5-tCJ"
      },
      "source": [
        "from selenium import webdriver\n",
        "chrome_options = webdriver.ChromeOptions()\n",
        "chrome_options.add_argument('--headless')\n",
        "chrome_options.add_argument('--no-sandbox')\n",
        "chrome_options.add_argument('--disable-dev-shm-usage')\n",
        "driver = webdriver.Chrome('chromedriver',chrome_options=chrome_options)"
      ],
      "execution_count": null,
      "outputs": []
    },
    {
      "cell_type": "code",
      "metadata": {
        "id": "EGaVV6RzBFoM"
      },
      "source": [
        "countries = []\n",
        "flags = []\n",
        "\n",
        "while len(countries) < 249 and len(flags) < 249:\n",
        "\n",
        "  try:\n",
        "    driver.get(\"https://www.randomlists.com/random-country?dup=false&qty=249\")\n",
        "\n",
        "    #if driver.find_elements_by_xpath(\"//*[contains(@class,'rand_large')]\"):\n",
        "    for i in range(1,250):\n",
        "      country = driver.find_elements_by_xpath(\"/html/body/div/div[1]/main/article/div[2]/ol/li[\"+str(i)+\"]/span[2]/span[1]\")[0].text                                           \n",
        "      countries.append(country)\n",
        "      flag = driver.find_element_by_xpath(\"/html/body/div/div[1]/main/article/div[2]/ol/li[\"+str(i)+\"]/span[1]/img\").get_attribute(\"src\")                                        \n",
        "      flags.append(flag)\n",
        "      if len(countries)%10 == 0 and len(flags)%10 == 0:\n",
        "        print(len(countries))\n",
        "\n",
        "  except Exception as e:\n",
        "    print(f\"{e}: {i}\")\n",
        "\n",
        "\n",
        "print(len(countries))\n",
        "print(len(flags))"
      ],
      "execution_count": null,
      "outputs": []
    },
    {
      "cell_type": "code",
      "metadata": {
        "id": "fpPO7P4eD2np"
      },
      "source": [
        "pays = dict(sorted(zip(countries, flags)))\n",
        "print(pays)"
      ],
      "execution_count": null,
      "outputs": []
    },
    {
      "cell_type": "code",
      "metadata": {
        "id": "fUznVpQnAnwz"
      },
      "source": [
        "import _pickle as pickle\n",
        "\n",
        "f = open(\"pays.pkl\", \"wb\")\n",
        "pickle.dump(pays, f)\n",
        "f.close()\n",
        "\n",
        "f = open(\"pays.pkl\", \"rb\")\n",
        "output = pickle.load(f)\n",
        "print(output)"
      ],
      "execution_count": null,
      "outputs": []
    },
    {
      "cell_type": "code",
      "metadata": {
        "id": "MDbMhOcNHino"
      },
      "source": [
        "from IPython.display import SVG,display\n",
        "import time\n",
        "\n",
        "while True:\n",
        "  a = str(input(\"Pays: \"))\n",
        "  print(f\"Je vérifie si {a} se trouve dans la base de donnée.\")\n",
        "  time.sleep(1)\n",
        "\n",
        "  while True:\n",
        "    if a in pays:\n",
        "      print(\"J'ai trouvé!\")\n",
        "      time.sleep(1)\n",
        "      display(SVG(pays[a]))\n",
        "      time.sleep(1)\n",
        "      break    \n",
        "    else:\n",
        "      print(\"Je n'ai pas trouvé le résultat exact mais voici ce que je peux vous proposer: \") \n",
        "      for x in pays:\n",
        "        if a in x:\n",
        "          print(x)\n",
        "      a = str(input(\"Réessayer avec l'une des proposition: \"))\n",
        "    time.sleep(1)\n",
        "  b = str(input(\"Envie de rejouer? \"))\n",
        "  if b == \"oui\":\n",
        "    continue\n",
        "  else:\n",
        "    print(\"Merci d'avoir joué!\\nÀ bientôt.\")\n",
        "    break\n",
        "\n",
        "  break"
      ],
      "execution_count": null,
      "outputs": []
    }
  ]
}