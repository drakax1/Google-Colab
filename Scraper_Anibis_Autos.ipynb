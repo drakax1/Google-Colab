{
  "nbformat": 4,
  "nbformat_minor": 0,
  "metadata": {
    "colab": {
      "name": "Scraper - Anibis - Autos.ipynb",
      "provenance": [],
      "collapsed_sections": [],
      "mount_file_id": "1PZyT-qsdO9hxVoY8Gt-SAVOjHE6LCk_Z",
      "authorship_tag": "ABX9TyMYj/dqcbKNEsLtbhs5XVkt",
      "include_colab_link": true
    },
    "kernelspec": {
      "name": "python3",
      "display_name": "Python 3"
    }
  },
  "cells": [
    {
      "cell_type": "markdown",
      "metadata": {
        "id": "view-in-github",
        "colab_type": "text"
      },
      "source": [
        "<a href=\"https://colab.research.google.com/github/drakax1/Google-Colab/blob/main/Scraper_Anibis_Autos.ipynb\" target=\"_parent\"><img src=\"https://colab.research.google.com/assets/colab-badge.svg\" alt=\"Open In Colab\"/></a>"
      ]
    },
    {
      "cell_type": "code",
      "metadata": {
        "id": "Y2RskBssM3za"
      },
      "source": [
        "!pip install selenium\n",
        "!apt-get update \n",
        "!apt install chromium-chromedriver"
      ],
      "execution_count": null,
      "outputs": []
    },
    {
      "cell_type": "code",
      "metadata": {
        "id": "kOrAZXqaN7Nt"
      },
      "source": [
        "from selenium import webdriver\n",
        "from bs4 import BeautifulSoup\n",
        "import pandas as pd"
      ],
      "execution_count": null,
      "outputs": []
    },
    {
      "cell_type": "code",
      "metadata": {
        "id": "dM0LSIFWTlOv"
      },
      "source": [
        "chrome_options = webdriver.ChromeOptions()\n",
        "chrome_options.add_argument('--headless')\n",
        "chrome_options.add_argument('--no-sandbox')\n",
        "chrome_options.add_argument('--disable-dev-shm-usage')\n",
        "driver = webdriver.Chrome('chromedriver',chrome_options=chrome_options)"
      ],
      "execution_count": null,
      "outputs": []
    },
    {
      "cell_type": "code",
      "metadata": {
        "id": "rQInQye24B04"
      },
      "source": [
        "url = \"https://www.anibis.ch/fr/c/automobiles-voitures-de-tourisme?pi=\"\n",
        "\n",
        "ads_links = []\n",
        "\n",
        "for page in range(1,2):\n",
        "  driver.get(url+str(page))\n",
        "  links = driver.find_elements_by_xpath(\"//a[contains(@class,'sc-AxirZ bdqkCI sc-1gbeqqm-0 fiNCt')]\")\n",
        "\n",
        "  for i in links:\n",
        "    ads_links.append(i.get_attribute('href'))\n",
        "    print(f\"{ads_links.index(i.get_attribute('href'))+1}/{len(ads_links)}: {i.get_attribute('href')}\")"
      ],
      "execution_count": null,
      "outputs": []
    },
    {
      "cell_type": "code",
      "metadata": {
        "id": "4eWul2q-gnuU"
      },
      "source": [
        "f=open('liens_voiture.txt','w')\n",
        "ads_links=map(lambda x:x+'\\n', ads_links)\n",
        "f.writelines(ads_links)\n",
        "f.close()"
      ],
      "execution_count": null,
      "outputs": []
    },
    {
      "cell_type": "code",
      "metadata": {
        "id": "8Y0bZVVOoonp"
      },
      "source": [
        "anibis = pd.DataFrame(columns = [\"Marque\",\"Modèle\",\"Année\",\"Kilomètres\",\"Prix\",\"Lien\"])\n",
        "\n",
        "for i in ads_links:\n",
        "  print(f\"Processing {ads_links.index(i)+1}/{len(ads_links)}: {i}\")\n",
        "  try:\n",
        "    driver.get(i)\n",
        "\n",
        "    if driver.find_elements_by_xpath(\"//*[contains(@href,'https://kredit.financescout24.ch/')]\"):\n",
        "\n",
        "      j = driver.find_elements_by_xpath(\"//*[@id='root']/div/div[5]/div/div[1]/div[3]/div[1]/div[1]/div[2]/div/ul/li[2]/div[2]/span\")[0]\n",
        "      brand = j.text\n",
        "\n",
        "      k = driver.find_elements_by_xpath(\"//*[@id='root']/div/div[5]/div/div[1]/div[3]/div[1]/div[1]/div[2]/div/ul/li[3]/div[2]/span\")[0]\n",
        "      model = k.text\n",
        "\n",
        "      l = driver.find_elements_by_xpath(\"//*[@id='root']/div/div[5]/div/div[1]/div[3]/div[1]/div[1]/div[2]/div/ul/li[5]/div[2]/span\")[0]\n",
        "      year = l.text\n",
        "\n",
        "      m = driver.find_elements_by_xpath(\"//*[@id='root']/div/div[5]/div/div[1]/div[3]/div[1]/div[1]/div[2]/div/ul/li[4]/div[2]/span\")[0]\n",
        "      km = m.text\n",
        "      km = km.replace(\" km\",\"\")\n",
        "\n",
        "      try:\n",
        "        n = driver.find_elements_by_xpath(\"//*[@id='root']/div/div[5]/div/div[1]/div[1]/div[4]/div[1]\")[0]\n",
        "        price = n.text\n",
        "        price = price.replace(\" / Prix à discuter\",\"\")\n",
        "\n",
        "      except:\n",
        "        n = driver.find_elements_by_xpath(\"//*[@id='root']/div/div[5]/div/div[1]/div[1]/div[3]/div[1]\")[0]\n",
        "        price = n.text\n",
        "        price = price.replace(\" / Prix à discuter\",\"\")\n",
        "\n",
        "      anibis.loc[len(anibis)] = [brand,model,year,km,price,i]\n",
        "\n",
        "    else:\n",
        "      j = driver.find_elements_by_xpath(\"//*[@id='root']/div/div[5]/div/div[1]/div[3]/div[1]/div[1]/div[2]/div/ul/li[1]/div[2]/span\")[0]\n",
        "      brand = j.text\n",
        "\n",
        "      k = driver.find_elements_by_xpath(\"//*[@id='root']/div/div[5]/div/div[1]/div[3]/div[1]/div[1]/div[2]/div/ul/li[2]/div[2]/span\")[0]\n",
        "      model = k.text\n",
        "\n",
        "      l = driver.find_elements_by_xpath(\"//*[@id='root']/div/div[5]/div/div[1]/div[3]/div[1]/div[1]/div[2]/div/ul/li[4]/div[2]/span\")[0]\n",
        "      year = l.text\n",
        "\n",
        "      m = driver.find_elements_by_xpath(\"//*[@id='root']/div/div[5]/div/div[1]/div[3]/div[1]/div[1]/div[2]/div/ul/li[3]/div[2]/span\")[0]\n",
        "      km = m.text\n",
        "      km = km.replace(\" km\",\"\")\n",
        "\n",
        "      try:\n",
        "        n = driver.find_elements_by_xpath(\"//*[@id='root']/div/div[5]/div/div[1]/div[1]/div[4]/div\")[0]\n",
        "        price = n.text\n",
        "        price = price.replace(\" / Prix à discuter\",\"\")\n",
        "\n",
        "      except:\n",
        "        n = driver.find_elements_by_xpath(\"//*[@id='root']/div/div[5]/div/div[1]/div[1]/div[3]/div\")[0]\n",
        "        price = n.text\n",
        "        price = price.replace(\" / Prix à discuter\",\"\")\n",
        "\n",
        "      anibis.loc[len(anibis)] = [brand,model,year,km,price,i]\n",
        "\n",
        "  except Exception as e:\n",
        "      print(f\"{e}: {i}\")\n",
        "\n",
        "display(anibis)"
      ],
      "execution_count": null,
      "outputs": []
    },
    {
      "cell_type": "code",
      "metadata": {
        "id": "og00UqyzuE6b"
      },
      "source": [
        "anibis1 = anibis.copy()"
      ],
      "execution_count": null,
      "outputs": []
    },
    {
      "cell_type": "code",
      "metadata": {
        "id": "Pz-TRi1R8BAM"
      },
      "source": [
        "anibis1[[\"Kilomètres\",\"Prix\"]] = anibis1[[\"Kilomètres\",\"Prix\"]].apply(lambda x: x.str.replace(\"Gratuit|Prix sur demande\",\"0\").str.replace(\"CHF|'|\\.|–|\\s\",\"\"))\n",
        "anibis1[[\"Année\",\"Kilomètres\",\"Prix\"]] = anibis1[[\"Année\",\"Kilomètres\",\"Prix\"]].astype(int)\n",
        "display(anibis1.head(40).sort_values(by=[\"Année\",\"Kilomètres\",\"Prix\"], ascending=[False,False,False]))"
      ],
      "execution_count": null,
      "outputs": []
    },
    {
      "cell_type": "code",
      "metadata": {
        "id": "bJmZMWTGFyWn"
      },
      "source": [
        "anibis1.query(\"Marque == ['Audi','BMW'] and Année >= 2012\").sort_values([\"Année\",\"Kilomètres\",\"Prix\"], ascending=[False,True,True])"
      ],
      "execution_count": null,
      "outputs": []
    },
    {
      "cell_type": "code",
      "metadata": {
        "id": "EmMvv5dH_UAf"
      },
      "source": [
        "anibis1[[\"Marque\",\"Kilomètres\"]].query(\"Marque == ['Audi','BMW']\").groupby(\"Marque\").agg(['mean', 'count'])"
      ],
      "execution_count": null,
      "outputs": []
    },
    {
      "cell_type": "code",
      "metadata": {
        "id": "Pi65wQt9aFEJ"
      },
      "source": [
        "anibis1.query(\"Prix <= 5000 and Prix != [0,88] and Kilomètres <= 200000\").sort_values(\"Prix\", ascending=True)"
      ],
      "execution_count": null,
      "outputs": []
    }
  ]
}